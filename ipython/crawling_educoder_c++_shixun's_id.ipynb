{
  "nbformat": 4,
  "nbformat_minor": 0,
  "metadata": {
    "colab": {
      "name": "crawling_educoder_c++_shixun's_id.ipynb",
      "provenance": []
    },
    "kernelspec": {
      "name": "python3",
      "display_name": "Python 3"
    }
  },
  "cells": [
    {
      "cell_type": "markdown",
      "metadata": {
        "id": "mB3EeNuBBqNJ",
        "colab_type": "text"
      },
      "source": [
        "<a href=\"https://cl.ly/9701685c814e\" target=\"_blank\"><img src=\"https://d1sz9tkli0lfjq.cloudfront.net/items/1Q1t0y053H0b3d3g2202/Image%202020-07-11%20at%204.39.31%20PM.png\" style=\"display: block;height: auto;width: 100%;\"/></a>"
      ]
    },
    {
      "cell_type": "code",
      "metadata": {
        "id": "jt_5KhHaxX8z",
        "colab_type": "code",
        "colab": {}
      },
      "source": [
        "url = 'https://www.educoder.net/api/shixuns.json?order_by=new&tag_level=3&tag_id=160&page=1&limit=16&keyword=&status=0&diff=0&sort=desc'"
      ],
      "execution_count": 26,
      "outputs": []
    },
    {
      "cell_type": "markdown",
      "metadata": {
        "id": "sEHjSGt657av",
        "colab_type": "text"
      },
      "source": [
        "page 有 16页,所以\n",
        "\n",
        "`url = 'https://www.educoder.net/api/shixuns.json?order_by=new&tag_level=3&tag_id=160&page='+pageCount+'&limit=16&keyword=&status=0&diff=0&sort=desc'`\n",
        "\n",
        "其中，pageCount 为页数"
      ]
    },
    {
      "cell_type": "code",
      "metadata": {
        "id": "wMyMOVpAxyGL",
        "colab_type": "code",
        "colab": {
          "base_uri": "https://localhost:8080/",
          "height": 102
        },
        "outputId": "4224d214-0ce3-4b65-e856-738103ae5c33"
      },
      "source": [
        "!pip install requests"
      ],
      "execution_count": 5,
      "outputs": [
        {
          "output_type": "stream",
          "text": [
            "Requirement already satisfied: requests in /usr/local/lib/python3.6/dist-packages (2.23.0)\n",
            "Requirement already satisfied: urllib3!=1.25.0,!=1.25.1,<1.26,>=1.21.1 in /usr/local/lib/python3.6/dist-packages (from requests) (1.24.3)\n",
            "Requirement already satisfied: chardet<4,>=3.0.2 in /usr/local/lib/python3.6/dist-packages (from requests) (3.0.4)\n",
            "Requirement already satisfied: certifi>=2017.4.17 in /usr/local/lib/python3.6/dist-packages (from requests) (2020.6.20)\n",
            "Requirement already satisfied: idna<3,>=2.5 in /usr/local/lib/python3.6/dist-packages (from requests) (2.9)\n"
          ],
          "name": "stdout"
        }
      ]
    },
    {
      "cell_type": "code",
      "metadata": {
        "id": "15BGB8U_wAyi",
        "colab_type": "code",
        "colab": {
          "base_uri": "https://localhost:8080/",
          "height": 88
        },
        "outputId": "91413774-eeb6-45bb-b1c7-ccb8f12631a0"
      },
      "source": [
        "import requests\n",
        "import json\n",
        "# 使用request模块打开并获取网页内容\n",
        "response = requests.get(url,verify=False,timeout=30)\n",
        "print(response.text) "
      ],
      "execution_count": 8,
      "outputs": [
        {
          "output_type": "stream",
          "text": [
            "/usr/local/lib/python3.6/dist-packages/urllib3/connectionpool.py:847: InsecureRequestWarning: Unverified HTTPS request is being made. Adding certificate verification is strongly advised. See: https://urllib3.readthedocs.io/en/latest/advanced-usage.html#ssl-warnings\n",
            "  InsecureRequestWarning)\n"
          ],
          "name": "stderr"
        },
        {
          "output_type": "stream",
          "text": [
            "{\"total_count\":269,\"pagination\":true,\"search_tags\":\"C++ / C++基础\",\"shixuns\":[{\"id\":6934,\"identifier\":\"ishwpfku\",\"name\":\"单元测试\",\"status\":2,\"is_jupyter\":false,\"power\":true,\"tag_name\":null,\"myshixuns_count\":808,\"stu_num\":808,\"score_info\":4.9,\"challenges_count\":3,\"level\":\"初级\",\"pic\":\"images/avatars/Shixun/6934?t=1576809489\"},{\"id\":7003,\"identifier\":\"jfvb7rqu\",\"name\":\"航母拦阻索“拉钩”次数统计\",\"status\":2,\"is_jupyter\":false,\"power\":true,\"tag_name\":null,\"myshixuns_count\":78,\"stu_num\":78,\"score_info\":4.6,\"challenges_count\":1,\"level\":\"初级\",\"pic\":\"images/avatars/Shixun/7003?t=1576809456\"},{\"id\":6853,\"identifier\":\"nbj3ihps\",\"name\":\"Paxos算法\",\"status\":2,\"is_jupyter\":false,\"power\":true,\"tag_name\":null,\"myshixuns_count\":122,\"stu_num\":122,\"score_info\":4.9,\"challenges_count\":1,\"level\":\"中级\",\"pic\":\"images/avatars/Shixun/6853?t=1576811124\"},{\"id\":6976,\"identifier\":\"5pqvenfk\",\"name\":\"计算机算法设计与分析：线性规划问题和单纯形算法\",\"status\":2,\"is_jupyter\":false,\"power\":true,\"tag_name\":null,\"myshixuns_count\":83,\"stu_num\":83,\"score_info\":4.8,\"challenges_count\":1,\"level\":\"中级\",\"pic\":\"images/avatars/Shixun/6976?t=1576809474\"},{\"id\":6701,\"identifier\":\"ufo547qx\",\"name\":\"计算机算法设计与分析：随机化算法\",\"status\":2,\"is_jupyter\":false,\"power\":true,\"tag_name\":null,\"myshixuns_count\":100,\"stu_num\":100,\"score_info\":4.9,\"challenges_count\":3,\"level\":\"初级\",\"pic\":\"images/avatars/Shixun/6701?t=1575430390\"},{\"id\":5978,\"identifier\":\"uflxmbjv\",\"name\":\"课堂实践作业\",\"status\":2,\"is_jupyter\":false,\"power\":true,\"tag_name\":null,\"myshixuns_count\":148,\"stu_num\":148,\"score_info\":4.5,\"challenges_count\":2,\"level\":\"中级\",\"pic\":\"images/avatars/Shixun/5978?t=1575430674\"},{\"id\":4830,\"identifier\":\"8vklmez9\",\"name\":\"综合课堂测试实训\",\"status\":2,\"is_jupyter\":false,\"power\":false,\"tag_name\":null,\"myshixuns_count\":543,\"stu_num\":543,\"score_info\":4.9,\"challenges_count\":2,\"level\":\"初级\",\"pic\":\"images/avatars/Shixun/4830?t=1575516177\"},{\"id\":4876,\"identifier\":\"qxyvcjp9\",\"name\":\"计算机算法设计与分析：分支限界法\",\"status\":2,\"is_jupyter\":false,\"power\":true,\"tag_name\":null,\"myshixuns_count\":302,\"stu_num\":302,\"score_info\":4.9,\"challenges_count\":2,\"level\":\"初级\",\"pic\":\"images/avatars/Shixun/4876?t=1575516104\"},{\"id\":4235,\"identifier\":\"aj625sot\",\"name\":\"离散事件系统仿真-三段扫描法\",\"status\":2,\"is_jupyter\":false,\"power\":true,\"tag_name\":null,\"myshixuns_count\":37,\"stu_num\":37,\"score_info\":5.0,\"challenges_count\":1,\"level\":\"中级\",\"pic\":\"images/avatars/Shixun/4235?t=1574129426\"},{\"id\":4181,\"identifier\":\"qbflntk6\",\"name\":\"贪心算法与动态规划-第十周\",\"status\":2,\"is_jupyter\":false,\"power\":true,\"tag_name\":null,\"myshixuns_count\":108,\"stu_num\":108,\"score_info\":4.4,\"challenges_count\":3,\"level\":\"中级\",\"pic\":\"images/avatars/Shixun/4181?t=1575516149\"},{\"id\":2193,\"identifier\":\"2ft8vp4z\",\"name\":\"随机数与随机变量生成\",\"status\":2,\"is_jupyter\":false,\"power\":true,\"tag_name\":null,\"myshixuns_count\":49,\"stu_num\":49,\"score_info\":5.0,\"challenges_count\":2,\"level\":\"初级\",\"pic\":\"images/educoder/index/shixun/shixun2.jpg\"},{\"id\":4173,\"identifier\":\"vpsgraw3\",\"name\":\"离散事件仿真原理-事件调度法\",\"status\":2,\"is_jupyter\":false,\"power\":true,\"tag_name\":null,\"myshixuns_count\":41,\"stu_num\":41,\"score_info\":5.0,\"challenges_count\":1,\"level\":\"中级\",\"pic\":\"images/avatars/Shixun/4173?t=1575516119\"},{\"id\":4130,\"identifier\":\"qm2wg4tz\",\"name\":\"向量的使用及哈夫曼编码\",\"status\":2,\"is_jupyter\":false,\"power\":true,\"tag_name\":null,\"myshixuns_count\":90,\"stu_num\":90,\"score_info\":4.5,\"challenges_count\":2,\"level\":\"中级\",\"pic\":\"images/avatars/Shixun/4130?t=1575516163\"},{\"id\":3911,\"identifier\":\"f8fzw5s7\",\"name\":\"第四章 循环结构程序设计（一）\",\"status\":2,\"is_jupyter\":false,\"power\":true,\"tag_name\":null,\"myshixuns_count\":157,\"stu_num\":157,\"score_info\":4.8,\"challenges_count\":15,\"level\":\"初级\",\"pic\":\"images/avatars/Shixun/3911?t=1576813305\"},{\"id\":3868,\"identifier\":\"ewo3rxcm\",\"name\":\"有信息搜索策略(启发式搜索)\",\"status\":2,\"is_jupyter\":false,\"power\":true,\"tag_name\":null,\"myshixuns_count\":10,\"stu_num\":10,\"score_info\":5.0,\"challenges_count\":6,\"level\":\"初级\",\"pic\":\"images/avatars/Shixun/3868?t=1576814010\"},{\"id\":4041,\"identifier\":\"ep3kwrub\",\"name\":\"问题求解与实践-第八周任务 词频统计\",\"status\":2,\"is_jupyter\":false,\"power\":true,\"tag_name\":null,\"myshixuns_count\":79,\"stu_num\":79,\"score_info\":4.3,\"challenges_count\":2,\"level\":\"中级\",\"pic\":\"images/avatars/Shixun/4041?t=1572241744\"}]}\n"
          ],
          "name": "stdout"
        }
      ]
    },
    {
      "cell_type": "code",
      "metadata": {
        "id": "f6JwroRY0Du1",
        "colab_type": "code",
        "colab": {
          "base_uri": "https://localhost:8080/",
          "height": 54
        },
        "outputId": "4b9d5513-a232-47ca-fc93-042471822d06"
      },
      "source": [
        "# json格式转为字典\n",
        "content = response.content\n",
        "result = json.loads(content)\n",
        "print(content)"
      ],
      "execution_count": 11,
      "outputs": [
        {
          "output_type": "stream",
          "text": [
            "b'{\"total_count\":269,\"pagination\":true,\"search_tags\":\"C++ / C++\\xe5\\x9f\\xba\\xe7\\xa1\\x80\",\"shixuns\":[{\"id\":6934,\"identifier\":\"ishwpfku\",\"name\":\"\\xe5\\x8d\\x95\\xe5\\x85\\x83\\xe6\\xb5\\x8b\\xe8\\xaf\\x95\",\"status\":2,\"is_jupyter\":false,\"power\":true,\"tag_name\":null,\"myshixuns_count\":808,\"stu_num\":808,\"score_info\":4.9,\"challenges_count\":3,\"level\":\"\\xe5\\x88\\x9d\\xe7\\xba\\xa7\",\"pic\":\"images/avatars/Shixun/6934?t=1576809489\"},{\"id\":7003,\"identifier\":\"jfvb7rqu\",\"name\":\"\\xe8\\x88\\xaa\\xe6\\xaf\\x8d\\xe6\\x8b\\xa6\\xe9\\x98\\xbb\\xe7\\xb4\\xa2\\xe2\\x80\\x9c\\xe6\\x8b\\x89\\xe9\\x92\\xa9\\xe2\\x80\\x9d\\xe6\\xac\\xa1\\xe6\\x95\\xb0\\xe7\\xbb\\x9f\\xe8\\xae\\xa1\",\"status\":2,\"is_jupyter\":false,\"power\":true,\"tag_name\":null,\"myshixuns_count\":78,\"stu_num\":78,\"score_info\":4.6,\"challenges_count\":1,\"level\":\"\\xe5\\x88\\x9d\\xe7\\xba\\xa7\",\"pic\":\"images/avatars/Shixun/7003?t=1576809456\"},{\"id\":6853,\"identifier\":\"nbj3ihps\",\"name\":\"Paxos\\xe7\\xae\\x97\\xe6\\xb3\\x95\",\"status\":2,\"is_jupyter\":false,\"power\":true,\"tag_name\":null,\"myshixuns_count\":122,\"stu_num\":122,\"score_info\":4.9,\"challenges_count\":1,\"level\":\"\\xe4\\xb8\\xad\\xe7\\xba\\xa7\",\"pic\":\"images/avatars/Shixun/6853?t=1576811124\"},{\"id\":6976,\"identifier\":\"5pqvenfk\",\"name\":\"\\xe8\\xae\\xa1\\xe7\\xae\\x97\\xe6\\x9c\\xba\\xe7\\xae\\x97\\xe6\\xb3\\x95\\xe8\\xae\\xbe\\xe8\\xae\\xa1\\xe4\\xb8\\x8e\\xe5\\x88\\x86\\xe6\\x9e\\x90\\xef\\xbc\\x9a\\xe7\\xba\\xbf\\xe6\\x80\\xa7\\xe8\\xa7\\x84\\xe5\\x88\\x92\\xe9\\x97\\xae\\xe9\\xa2\\x98\\xe5\\x92\\x8c\\xe5\\x8d\\x95\\xe7\\xba\\xaf\\xe5\\xbd\\xa2\\xe7\\xae\\x97\\xe6\\xb3\\x95\",\"status\":2,\"is_jupyter\":false,\"power\":true,\"tag_name\":null,\"myshixuns_count\":83,\"stu_num\":83,\"score_info\":4.8,\"challenges_count\":1,\"level\":\"\\xe4\\xb8\\xad\\xe7\\xba\\xa7\",\"pic\":\"images/avatars/Shixun/6976?t=1576809474\"},{\"id\":6701,\"identifier\":\"ufo547qx\",\"name\":\"\\xe8\\xae\\xa1\\xe7\\xae\\x97\\xe6\\x9c\\xba\\xe7\\xae\\x97\\xe6\\xb3\\x95\\xe8\\xae\\xbe\\xe8\\xae\\xa1\\xe4\\xb8\\x8e\\xe5\\x88\\x86\\xe6\\x9e\\x90\\xef\\xbc\\x9a\\xe9\\x9a\\x8f\\xe6\\x9c\\xba\\xe5\\x8c\\x96\\xe7\\xae\\x97\\xe6\\xb3\\x95\",\"status\":2,\"is_jupyter\":false,\"power\":true,\"tag_name\":null,\"myshixuns_count\":100,\"stu_num\":100,\"score_info\":4.9,\"challenges_count\":3,\"level\":\"\\xe5\\x88\\x9d\\xe7\\xba\\xa7\",\"pic\":\"images/avatars/Shixun/6701?t=1575430390\"},{\"id\":5978,\"identifier\":\"uflxmbjv\",\"name\":\"\\xe8\\xaf\\xbe\\xe5\\xa0\\x82\\xe5\\xae\\x9e\\xe8\\xb7\\xb5\\xe4\\xbd\\x9c\\xe4\\xb8\\x9a\",\"status\":2,\"is_jupyter\":false,\"power\":true,\"tag_name\":null,\"myshixuns_count\":148,\"stu_num\":148,\"score_info\":4.5,\"challenges_count\":2,\"level\":\"\\xe4\\xb8\\xad\\xe7\\xba\\xa7\",\"pic\":\"images/avatars/Shixun/5978?t=1575430674\"},{\"id\":4830,\"identifier\":\"8vklmez9\",\"name\":\"\\xe7\\xbb\\xbc\\xe5\\x90\\x88\\xe8\\xaf\\xbe\\xe5\\xa0\\x82\\xe6\\xb5\\x8b\\xe8\\xaf\\x95\\xe5\\xae\\x9e\\xe8\\xae\\xad\",\"status\":2,\"is_jupyter\":false,\"power\":false,\"tag_name\":null,\"myshixuns_count\":543,\"stu_num\":543,\"score_info\":4.9,\"challenges_count\":2,\"level\":\"\\xe5\\x88\\x9d\\xe7\\xba\\xa7\",\"pic\":\"images/avatars/Shixun/4830?t=1575516177\"},{\"id\":4876,\"identifier\":\"qxyvcjp9\",\"name\":\"\\xe8\\xae\\xa1\\xe7\\xae\\x97\\xe6\\x9c\\xba\\xe7\\xae\\x97\\xe6\\xb3\\x95\\xe8\\xae\\xbe\\xe8\\xae\\xa1\\xe4\\xb8\\x8e\\xe5\\x88\\x86\\xe6\\x9e\\x90\\xef\\xbc\\x9a\\xe5\\x88\\x86\\xe6\\x94\\xaf\\xe9\\x99\\x90\\xe7\\x95\\x8c\\xe6\\xb3\\x95\",\"status\":2,\"is_jupyter\":false,\"power\":true,\"tag_name\":null,\"myshixuns_count\":302,\"stu_num\":302,\"score_info\":4.9,\"challenges_count\":2,\"level\":\"\\xe5\\x88\\x9d\\xe7\\xba\\xa7\",\"pic\":\"images/avatars/Shixun/4876?t=1575516104\"},{\"id\":4235,\"identifier\":\"aj625sot\",\"name\":\"\\xe7\\xa6\\xbb\\xe6\\x95\\xa3\\xe4\\xba\\x8b\\xe4\\xbb\\xb6\\xe7\\xb3\\xbb\\xe7\\xbb\\x9f\\xe4\\xbb\\xbf\\xe7\\x9c\\x9f-\\xe4\\xb8\\x89\\xe6\\xae\\xb5\\xe6\\x89\\xab\\xe6\\x8f\\x8f\\xe6\\xb3\\x95\",\"status\":2,\"is_jupyter\":false,\"power\":true,\"tag_name\":null,\"myshixuns_count\":37,\"stu_num\":37,\"score_info\":5.0,\"challenges_count\":1,\"level\":\"\\xe4\\xb8\\xad\\xe7\\xba\\xa7\",\"pic\":\"images/avatars/Shixun/4235?t=1574129426\"},{\"id\":4181,\"identifier\":\"qbflntk6\",\"name\":\"\\xe8\\xb4\\xaa\\xe5\\xbf\\x83\\xe7\\xae\\x97\\xe6\\xb3\\x95\\xe4\\xb8\\x8e\\xe5\\x8a\\xa8\\xe6\\x80\\x81\\xe8\\xa7\\x84\\xe5\\x88\\x92-\\xe7\\xac\\xac\\xe5\\x8d\\x81\\xe5\\x91\\xa8\",\"status\":2,\"is_jupyter\":false,\"power\":true,\"tag_name\":null,\"myshixuns_count\":108,\"stu_num\":108,\"score_info\":4.4,\"challenges_count\":3,\"level\":\"\\xe4\\xb8\\xad\\xe7\\xba\\xa7\",\"pic\":\"images/avatars/Shixun/4181?t=1575516149\"},{\"id\":2193,\"identifier\":\"2ft8vp4z\",\"name\":\"\\xe9\\x9a\\x8f\\xe6\\x9c\\xba\\xe6\\x95\\xb0\\xe4\\xb8\\x8e\\xe9\\x9a\\x8f\\xe6\\x9c\\xba\\xe5\\x8f\\x98\\xe9\\x87\\x8f\\xe7\\x94\\x9f\\xe6\\x88\\x90\",\"status\":2,\"is_jupyter\":false,\"power\":true,\"tag_name\":null,\"myshixuns_count\":49,\"stu_num\":49,\"score_info\":5.0,\"challenges_count\":2,\"level\":\"\\xe5\\x88\\x9d\\xe7\\xba\\xa7\",\"pic\":\"images/educoder/index/shixun/shixun2.jpg\"},{\"id\":4173,\"identifier\":\"vpsgraw3\",\"name\":\"\\xe7\\xa6\\xbb\\xe6\\x95\\xa3\\xe4\\xba\\x8b\\xe4\\xbb\\xb6\\xe4\\xbb\\xbf\\xe7\\x9c\\x9f\\xe5\\x8e\\x9f\\xe7\\x90\\x86-\\xe4\\xba\\x8b\\xe4\\xbb\\xb6\\xe8\\xb0\\x83\\xe5\\xba\\xa6\\xe6\\xb3\\x95\",\"status\":2,\"is_jupyter\":false,\"power\":true,\"tag_name\":null,\"myshixuns_count\":41,\"stu_num\":41,\"score_info\":5.0,\"challenges_count\":1,\"level\":\"\\xe4\\xb8\\xad\\xe7\\xba\\xa7\",\"pic\":\"images/avatars/Shixun/4173?t=1575516119\"},{\"id\":4130,\"identifier\":\"qm2wg4tz\",\"name\":\"\\xe5\\x90\\x91\\xe9\\x87\\x8f\\xe7\\x9a\\x84\\xe4\\xbd\\xbf\\xe7\\x94\\xa8\\xe5\\x8f\\x8a\\xe5\\x93\\x88\\xe5\\xa4\\xab\\xe6\\x9b\\xbc\\xe7\\xbc\\x96\\xe7\\xa0\\x81\",\"status\":2,\"is_jupyter\":false,\"power\":true,\"tag_name\":null,\"myshixuns_count\":90,\"stu_num\":90,\"score_info\":4.5,\"challenges_count\":2,\"level\":\"\\xe4\\xb8\\xad\\xe7\\xba\\xa7\",\"pic\":\"images/avatars/Shixun/4130?t=1575516163\"},{\"id\":3911,\"identifier\":\"f8fzw5s7\",\"name\":\"\\xe7\\xac\\xac\\xe5\\x9b\\x9b\\xe7\\xab\\xa0 \\xe5\\xbe\\xaa\\xe7\\x8e\\xaf\\xe7\\xbb\\x93\\xe6\\x9e\\x84\\xe7\\xa8\\x8b\\xe5\\xba\\x8f\\xe8\\xae\\xbe\\xe8\\xae\\xa1\\xef\\xbc\\x88\\xe4\\xb8\\x80\\xef\\xbc\\x89\",\"status\":2,\"is_jupyter\":false,\"power\":true,\"tag_name\":null,\"myshixuns_count\":157,\"stu_num\":157,\"score_info\":4.8,\"challenges_count\":15,\"level\":\"\\xe5\\x88\\x9d\\xe7\\xba\\xa7\",\"pic\":\"images/avatars/Shixun/3911?t=1576813305\"},{\"id\":3868,\"identifier\":\"ewo3rxcm\",\"name\":\"\\xe6\\x9c\\x89\\xe4\\xbf\\xa1\\xe6\\x81\\xaf\\xe6\\x90\\x9c\\xe7\\xb4\\xa2\\xe7\\xad\\x96\\xe7\\x95\\xa5(\\xe5\\x90\\xaf\\xe5\\x8f\\x91\\xe5\\xbc\\x8f\\xe6\\x90\\x9c\\xe7\\xb4\\xa2)\",\"status\":2,\"is_jupyter\":false,\"power\":true,\"tag_name\":null,\"myshixuns_count\":10,\"stu_num\":10,\"score_info\":5.0,\"challenges_count\":6,\"level\":\"\\xe5\\x88\\x9d\\xe7\\xba\\xa7\",\"pic\":\"images/avatars/Shixun/3868?t=1576814010\"},{\"id\":4041,\"identifier\":\"ep3kwrub\",\"name\":\"\\xe9\\x97\\xae\\xe9\\xa2\\x98\\xe6\\xb1\\x82\\xe8\\xa7\\xa3\\xe4\\xb8\\x8e\\xe5\\xae\\x9e\\xe8\\xb7\\xb5-\\xe7\\xac\\xac\\xe5\\x85\\xab\\xe5\\x91\\xa8\\xe4\\xbb\\xbb\\xe5\\x8a\\xa1 \\xe8\\xaf\\x8d\\xe9\\xa2\\x91\\xe7\\xbb\\x9f\\xe8\\xae\\xa1\",\"status\":2,\"is_jupyter\":false,\"power\":true,\"tag_name\":null,\"myshixuns_count\":79,\"stu_num\":79,\"score_info\":4.3,\"challenges_count\":2,\"level\":\"\\xe4\\xb8\\xad\\xe7\\xba\\xa7\",\"pic\":\"images/avatars/Shixun/4041?t=1572241744\"}]}'\n"
          ],
          "name": "stdout"
        }
      ]
    },
    {
      "cell_type": "code",
      "metadata": {
        "id": "KpqyGd_R0j5l",
        "colab_type": "code",
        "colab": {
          "base_uri": "https://localhost:8080/",
          "height": 54
        },
        "outputId": "e4d1169d-1d2d-4a5a-a9d7-508dd263e757"
      },
      "source": [
        "print(result)"
      ],
      "execution_count": 12,
      "outputs": [
        {
          "output_type": "stream",
          "text": [
            "{'total_count': 269, 'pagination': True, 'search_tags': 'C++ / C++基础', 'shixuns': [{'id': 6934, 'identifier': 'ishwpfku', 'name': '单元测试', 'status': 2, 'is_jupyter': False, 'power': True, 'tag_name': None, 'myshixuns_count': 808, 'stu_num': 808, 'score_info': 4.9, 'challenges_count': 3, 'level': '初级', 'pic': 'images/avatars/Shixun/6934?t=1576809489'}, {'id': 7003, 'identifier': 'jfvb7rqu', 'name': '航母拦阻索“拉钩”次数统计', 'status': 2, 'is_jupyter': False, 'power': True, 'tag_name': None, 'myshixuns_count': 78, 'stu_num': 78, 'score_info': 4.6, 'challenges_count': 1, 'level': '初级', 'pic': 'images/avatars/Shixun/7003?t=1576809456'}, {'id': 6853, 'identifier': 'nbj3ihps', 'name': 'Paxos算法', 'status': 2, 'is_jupyter': False, 'power': True, 'tag_name': None, 'myshixuns_count': 122, 'stu_num': 122, 'score_info': 4.9, 'challenges_count': 1, 'level': '中级', 'pic': 'images/avatars/Shixun/6853?t=1576811124'}, {'id': 6976, 'identifier': '5pqvenfk', 'name': '计算机算法设计与分析：线性规划问题和单纯形算法', 'status': 2, 'is_jupyter': False, 'power': True, 'tag_name': None, 'myshixuns_count': 83, 'stu_num': 83, 'score_info': 4.8, 'challenges_count': 1, 'level': '中级', 'pic': 'images/avatars/Shixun/6976?t=1576809474'}, {'id': 6701, 'identifier': 'ufo547qx', 'name': '计算机算法设计与分析：随机化算法', 'status': 2, 'is_jupyter': False, 'power': True, 'tag_name': None, 'myshixuns_count': 100, 'stu_num': 100, 'score_info': 4.9, 'challenges_count': 3, 'level': '初级', 'pic': 'images/avatars/Shixun/6701?t=1575430390'}, {'id': 5978, 'identifier': 'uflxmbjv', 'name': '课堂实践作业', 'status': 2, 'is_jupyter': False, 'power': True, 'tag_name': None, 'myshixuns_count': 148, 'stu_num': 148, 'score_info': 4.5, 'challenges_count': 2, 'level': '中级', 'pic': 'images/avatars/Shixun/5978?t=1575430674'}, {'id': 4830, 'identifier': '8vklmez9', 'name': '综合课堂测试实训', 'status': 2, 'is_jupyter': False, 'power': False, 'tag_name': None, 'myshixuns_count': 543, 'stu_num': 543, 'score_info': 4.9, 'challenges_count': 2, 'level': '初级', 'pic': 'images/avatars/Shixun/4830?t=1575516177'}, {'id': 4876, 'identifier': 'qxyvcjp9', 'name': '计算机算法设计与分析：分支限界法', 'status': 2, 'is_jupyter': False, 'power': True, 'tag_name': None, 'myshixuns_count': 302, 'stu_num': 302, 'score_info': 4.9, 'challenges_count': 2, 'level': '初级', 'pic': 'images/avatars/Shixun/4876?t=1575516104'}, {'id': 4235, 'identifier': 'aj625sot', 'name': '离散事件系统仿真-三段扫描法', 'status': 2, 'is_jupyter': False, 'power': True, 'tag_name': None, 'myshixuns_count': 37, 'stu_num': 37, 'score_info': 5.0, 'challenges_count': 1, 'level': '中级', 'pic': 'images/avatars/Shixun/4235?t=1574129426'}, {'id': 4181, 'identifier': 'qbflntk6', 'name': '贪心算法与动态规划-第十周', 'status': 2, 'is_jupyter': False, 'power': True, 'tag_name': None, 'myshixuns_count': 108, 'stu_num': 108, 'score_info': 4.4, 'challenges_count': 3, 'level': '中级', 'pic': 'images/avatars/Shixun/4181?t=1575516149'}, {'id': 2193, 'identifier': '2ft8vp4z', 'name': '随机数与随机变量生成', 'status': 2, 'is_jupyter': False, 'power': True, 'tag_name': None, 'myshixuns_count': 49, 'stu_num': 49, 'score_info': 5.0, 'challenges_count': 2, 'level': '初级', 'pic': 'images/educoder/index/shixun/shixun2.jpg'}, {'id': 4173, 'identifier': 'vpsgraw3', 'name': '离散事件仿真原理-事件调度法', 'status': 2, 'is_jupyter': False, 'power': True, 'tag_name': None, 'myshixuns_count': 41, 'stu_num': 41, 'score_info': 5.0, 'challenges_count': 1, 'level': '中级', 'pic': 'images/avatars/Shixun/4173?t=1575516119'}, {'id': 4130, 'identifier': 'qm2wg4tz', 'name': '向量的使用及哈夫曼编码', 'status': 2, 'is_jupyter': False, 'power': True, 'tag_name': None, 'myshixuns_count': 90, 'stu_num': 90, 'score_info': 4.5, 'challenges_count': 2, 'level': '中级', 'pic': 'images/avatars/Shixun/4130?t=1575516163'}, {'id': 3911, 'identifier': 'f8fzw5s7', 'name': '第四章 循环结构程序设计（一）', 'status': 2, 'is_jupyter': False, 'power': True, 'tag_name': None, 'myshixuns_count': 157, 'stu_num': 157, 'score_info': 4.8, 'challenges_count': 15, 'level': '初级', 'pic': 'images/avatars/Shixun/3911?t=1576813305'}, {'id': 3868, 'identifier': 'ewo3rxcm', 'name': '有信息搜索策略(启发式搜索)', 'status': 2, 'is_jupyter': False, 'power': True, 'tag_name': None, 'myshixuns_count': 10, 'stu_num': 10, 'score_info': 5.0, 'challenges_count': 6, 'level': '初级', 'pic': 'images/avatars/Shixun/3868?t=1576814010'}, {'id': 4041, 'identifier': 'ep3kwrub', 'name': '问题求解与实践-第八周任务 词频统计', 'status': 2, 'is_jupyter': False, 'power': True, 'tag_name': None, 'myshixuns_count': 79, 'stu_num': 79, 'score_info': 4.3, 'challenges_count': 2, 'level': '中级', 'pic': 'images/avatars/Shixun/4041?t=1572241744'}]}\n"
          ],
          "name": "stdout"
        }
      ]
    },
    {
      "cell_type": "code",
      "metadata": {
        "id": "ah9OqvtK03x3",
        "colab_type": "code",
        "colab": {
          "base_uri": "https://localhost:8080/",
          "height": 1000
        },
        "outputId": "905cbf42-6ec3-44f6-ec6b-a945c4d9ab21"
      },
      "source": [
        "result['shixuns']"
      ],
      "execution_count": 14,
      "outputs": [
        {
          "output_type": "execute_result",
          "data": {
            "text/plain": [
              "[{'challenges_count': 3,\n",
              "  'id': 6934,\n",
              "  'identifier': 'ishwpfku',\n",
              "  'is_jupyter': False,\n",
              "  'level': '初级',\n",
              "  'myshixuns_count': 808,\n",
              "  'name': '单元测试',\n",
              "  'pic': 'images/avatars/Shixun/6934?t=1576809489',\n",
              "  'power': True,\n",
              "  'score_info': 4.9,\n",
              "  'status': 2,\n",
              "  'stu_num': 808,\n",
              "  'tag_name': None},\n",
              " {'challenges_count': 1,\n",
              "  'id': 7003,\n",
              "  'identifier': 'jfvb7rqu',\n",
              "  'is_jupyter': False,\n",
              "  'level': '初级',\n",
              "  'myshixuns_count': 78,\n",
              "  'name': '航母拦阻索“拉钩”次数统计',\n",
              "  'pic': 'images/avatars/Shixun/7003?t=1576809456',\n",
              "  'power': True,\n",
              "  'score_info': 4.6,\n",
              "  'status': 2,\n",
              "  'stu_num': 78,\n",
              "  'tag_name': None},\n",
              " {'challenges_count': 1,\n",
              "  'id': 6853,\n",
              "  'identifier': 'nbj3ihps',\n",
              "  'is_jupyter': False,\n",
              "  'level': '中级',\n",
              "  'myshixuns_count': 122,\n",
              "  'name': 'Paxos算法',\n",
              "  'pic': 'images/avatars/Shixun/6853?t=1576811124',\n",
              "  'power': True,\n",
              "  'score_info': 4.9,\n",
              "  'status': 2,\n",
              "  'stu_num': 122,\n",
              "  'tag_name': None},\n",
              " {'challenges_count': 1,\n",
              "  'id': 6976,\n",
              "  'identifier': '5pqvenfk',\n",
              "  'is_jupyter': False,\n",
              "  'level': '中级',\n",
              "  'myshixuns_count': 83,\n",
              "  'name': '计算机算法设计与分析：线性规划问题和单纯形算法',\n",
              "  'pic': 'images/avatars/Shixun/6976?t=1576809474',\n",
              "  'power': True,\n",
              "  'score_info': 4.8,\n",
              "  'status': 2,\n",
              "  'stu_num': 83,\n",
              "  'tag_name': None},\n",
              " {'challenges_count': 3,\n",
              "  'id': 6701,\n",
              "  'identifier': 'ufo547qx',\n",
              "  'is_jupyter': False,\n",
              "  'level': '初级',\n",
              "  'myshixuns_count': 100,\n",
              "  'name': '计算机算法设计与分析：随机化算法',\n",
              "  'pic': 'images/avatars/Shixun/6701?t=1575430390',\n",
              "  'power': True,\n",
              "  'score_info': 4.9,\n",
              "  'status': 2,\n",
              "  'stu_num': 100,\n",
              "  'tag_name': None},\n",
              " {'challenges_count': 2,\n",
              "  'id': 5978,\n",
              "  'identifier': 'uflxmbjv',\n",
              "  'is_jupyter': False,\n",
              "  'level': '中级',\n",
              "  'myshixuns_count': 148,\n",
              "  'name': '课堂实践作业',\n",
              "  'pic': 'images/avatars/Shixun/5978?t=1575430674',\n",
              "  'power': True,\n",
              "  'score_info': 4.5,\n",
              "  'status': 2,\n",
              "  'stu_num': 148,\n",
              "  'tag_name': None},\n",
              " {'challenges_count': 2,\n",
              "  'id': 4830,\n",
              "  'identifier': '8vklmez9',\n",
              "  'is_jupyter': False,\n",
              "  'level': '初级',\n",
              "  'myshixuns_count': 543,\n",
              "  'name': '综合课堂测试实训',\n",
              "  'pic': 'images/avatars/Shixun/4830?t=1575516177',\n",
              "  'power': False,\n",
              "  'score_info': 4.9,\n",
              "  'status': 2,\n",
              "  'stu_num': 543,\n",
              "  'tag_name': None},\n",
              " {'challenges_count': 2,\n",
              "  'id': 4876,\n",
              "  'identifier': 'qxyvcjp9',\n",
              "  'is_jupyter': False,\n",
              "  'level': '初级',\n",
              "  'myshixuns_count': 302,\n",
              "  'name': '计算机算法设计与分析：分支限界法',\n",
              "  'pic': 'images/avatars/Shixun/4876?t=1575516104',\n",
              "  'power': True,\n",
              "  'score_info': 4.9,\n",
              "  'status': 2,\n",
              "  'stu_num': 302,\n",
              "  'tag_name': None},\n",
              " {'challenges_count': 1,\n",
              "  'id': 4235,\n",
              "  'identifier': 'aj625sot',\n",
              "  'is_jupyter': False,\n",
              "  'level': '中级',\n",
              "  'myshixuns_count': 37,\n",
              "  'name': '离散事件系统仿真-三段扫描法',\n",
              "  'pic': 'images/avatars/Shixun/4235?t=1574129426',\n",
              "  'power': True,\n",
              "  'score_info': 5.0,\n",
              "  'status': 2,\n",
              "  'stu_num': 37,\n",
              "  'tag_name': None},\n",
              " {'challenges_count': 3,\n",
              "  'id': 4181,\n",
              "  'identifier': 'qbflntk6',\n",
              "  'is_jupyter': False,\n",
              "  'level': '中级',\n",
              "  'myshixuns_count': 108,\n",
              "  'name': '贪心算法与动态规划-第十周',\n",
              "  'pic': 'images/avatars/Shixun/4181?t=1575516149',\n",
              "  'power': True,\n",
              "  'score_info': 4.4,\n",
              "  'status': 2,\n",
              "  'stu_num': 108,\n",
              "  'tag_name': None},\n",
              " {'challenges_count': 2,\n",
              "  'id': 2193,\n",
              "  'identifier': '2ft8vp4z',\n",
              "  'is_jupyter': False,\n",
              "  'level': '初级',\n",
              "  'myshixuns_count': 49,\n",
              "  'name': '随机数与随机变量生成',\n",
              "  'pic': 'images/educoder/index/shixun/shixun2.jpg',\n",
              "  'power': True,\n",
              "  'score_info': 5.0,\n",
              "  'status': 2,\n",
              "  'stu_num': 49,\n",
              "  'tag_name': None},\n",
              " {'challenges_count': 1,\n",
              "  'id': 4173,\n",
              "  'identifier': 'vpsgraw3',\n",
              "  'is_jupyter': False,\n",
              "  'level': '中级',\n",
              "  'myshixuns_count': 41,\n",
              "  'name': '离散事件仿真原理-事件调度法',\n",
              "  'pic': 'images/avatars/Shixun/4173?t=1575516119',\n",
              "  'power': True,\n",
              "  'score_info': 5.0,\n",
              "  'status': 2,\n",
              "  'stu_num': 41,\n",
              "  'tag_name': None},\n",
              " {'challenges_count': 2,\n",
              "  'id': 4130,\n",
              "  'identifier': 'qm2wg4tz',\n",
              "  'is_jupyter': False,\n",
              "  'level': '中级',\n",
              "  'myshixuns_count': 90,\n",
              "  'name': '向量的使用及哈夫曼编码',\n",
              "  'pic': 'images/avatars/Shixun/4130?t=1575516163',\n",
              "  'power': True,\n",
              "  'score_info': 4.5,\n",
              "  'status': 2,\n",
              "  'stu_num': 90,\n",
              "  'tag_name': None},\n",
              " {'challenges_count': 15,\n",
              "  'id': 3911,\n",
              "  'identifier': 'f8fzw5s7',\n",
              "  'is_jupyter': False,\n",
              "  'level': '初级',\n",
              "  'myshixuns_count': 157,\n",
              "  'name': '第四章 循环结构程序设计（一）',\n",
              "  'pic': 'images/avatars/Shixun/3911?t=1576813305',\n",
              "  'power': True,\n",
              "  'score_info': 4.8,\n",
              "  'status': 2,\n",
              "  'stu_num': 157,\n",
              "  'tag_name': None},\n",
              " {'challenges_count': 6,\n",
              "  'id': 3868,\n",
              "  'identifier': 'ewo3rxcm',\n",
              "  'is_jupyter': False,\n",
              "  'level': '初级',\n",
              "  'myshixuns_count': 10,\n",
              "  'name': '有信息搜索策略(启发式搜索)',\n",
              "  'pic': 'images/avatars/Shixun/3868?t=1576814010',\n",
              "  'power': True,\n",
              "  'score_info': 5.0,\n",
              "  'status': 2,\n",
              "  'stu_num': 10,\n",
              "  'tag_name': None},\n",
              " {'challenges_count': 2,\n",
              "  'id': 4041,\n",
              "  'identifier': 'ep3kwrub',\n",
              "  'is_jupyter': False,\n",
              "  'level': '中级',\n",
              "  'myshixuns_count': 79,\n",
              "  'name': '问题求解与实践-第八周任务 词频统计',\n",
              "  'pic': 'images/avatars/Shixun/4041?t=1572241744',\n",
              "  'power': True,\n",
              "  'score_info': 4.3,\n",
              "  'status': 2,\n",
              "  'stu_num': 79,\n",
              "  'tag_name': None}]"
            ]
          },
          "metadata": {
            "tags": []
          },
          "execution_count": 14
        }
      ]
    },
    {
      "cell_type": "code",
      "metadata": {
        "id": "epL7pLBk36Ix",
        "colab_type": "code",
        "colab": {
          "base_uri": "https://localhost:8080/",
          "height": 34
        },
        "outputId": "d4dec3ee-9f65-4e87-dc11-7b6c5736bc3e"
      },
      "source": [
        "len(result['shixuns'])"
      ],
      "execution_count": 17,
      "outputs": [
        {
          "output_type": "execute_result",
          "data": {
            "text/plain": [
              "16"
            ]
          },
          "metadata": {
            "tags": []
          },
          "execution_count": 17
        }
      ]
    },
    {
      "cell_type": "code",
      "metadata": {
        "id": "DcbC2uG81OcD",
        "colab_type": "code",
        "colab": {
          "base_uri": "https://localhost:8080/",
          "height": 54
        },
        "outputId": "21edff69-e017-47ce-c703-dc6ebbb80f8b"
      },
      "source": [
        "# 获取相关信息并存入列表的字典中\n",
        "shixun_list = []\n",
        "tmp = result['shixuns']\n",
        "for i in range (0,len(tmp)):\n",
        "    info = {}\n",
        "    info['id']=tmp[i]['id']\n",
        "    info['identifier']=tmp[i]['identifier']\n",
        "    info['name']=tmp[i]['name']\n",
        "    shixun_list.append(info)       # 列表存放字典\n",
        "print(shixun_list)"
      ],
      "execution_count": 18,
      "outputs": [
        {
          "output_type": "stream",
          "text": [
            "[{'id': 6934, 'identifier': 'ishwpfku', 'name': '单元测试'}, {'id': 7003, 'identifier': 'jfvb7rqu', 'name': '航母拦阻索“拉钩”次数统计'}, {'id': 6853, 'identifier': 'nbj3ihps', 'name': 'Paxos算法'}, {'id': 6976, 'identifier': '5pqvenfk', 'name': '计算机算法设计与分析：线性规划问题和单纯形算法'}, {'id': 6701, 'identifier': 'ufo547qx', 'name': '计算机算法设计与分析：随机化算法'}, {'id': 5978, 'identifier': 'uflxmbjv', 'name': '课堂实践作业'}, {'id': 4830, 'identifier': '8vklmez9', 'name': '综合课堂测试实训'}, {'id': 4876, 'identifier': 'qxyvcjp9', 'name': '计算机算法设计与分析：分支限界法'}, {'id': 4235, 'identifier': 'aj625sot', 'name': '离散事件系统仿真-三段扫描法'}, {'id': 4181, 'identifier': 'qbflntk6', 'name': '贪心算法与动态规划-第十周'}, {'id': 2193, 'identifier': '2ft8vp4z', 'name': '随机数与随机变量生成'}, {'id': 4173, 'identifier': 'vpsgraw3', 'name': '离散事件仿真原理-事件调度法'}, {'id': 4130, 'identifier': 'qm2wg4tz', 'name': '向量的使用及哈夫曼编码'}, {'id': 3911, 'identifier': 'f8fzw5s7', 'name': '第四章 循环结构程序设计（一）'}, {'id': 3868, 'identifier': 'ewo3rxcm', 'name': '有信息搜索策略(启发式搜索)'}, {'id': 4041, 'identifier': 'ep3kwrub', 'name': '问题求解与实践-第八周任务 词频统计'}]\n"
          ],
          "name": "stdout"
        }
      ]
    },
    {
      "cell_type": "markdown",
      "metadata": {
        "id": "Mx9t30oI0El-",
        "colab_type": "text"
      },
      "source": [
        ""
      ]
    },
    {
      "cell_type": "code",
      "metadata": {
        "id": "Sro2ezQVwR9g",
        "colab_type": "code",
        "colab": {}
      },
      "source": [
        "# rowCount: corresponding pages \n",
        "def get_shixun_id(pageCount):\n",
        "    url = 'https://www.educoder.net/api/shixuns.json?order_by=new&tag_level=3&tag_id=160&page='+pageCount+'&limit=16&keyword=&status=0&diff=0&sort=desc'\n",
        "\n",
        "    # 使用request模块打开并获取网页内容\n",
        "    response = requests.get(url,verify=False,timeout=30)\n",
        "    #print(response.text)\n",
        "\n",
        "    # json格式转为字典\n",
        "    content = response.content\n",
        "    result = json.loads(content)\n",
        "    #print(result)\n",
        "\n",
        "    # 获取相关信息并存入列表的字典中\n",
        "    shixun_list = []\n",
        "    tmp = result['shixuns']\n",
        "    for i in range (0,len(tmp)):\n",
        "        info = {}\n",
        "        info['id']=tmp[i]['id']\n",
        "        #info['identifier']=tmp[i]['identifier']\n",
        "        #info['name']=tmp[i]['name']\n",
        "        shixun_list.append(info)       # 列表存放字典\n",
        "    return shixun_list"
      ],
      "execution_count": 27,
      "outputs": []
    },
    {
      "cell_type": "code",
      "metadata": {
        "id": "xmbBBP3R_Q9b",
        "colab_type": "code",
        "colab": {
          "base_uri": "https://localhost:8080/",
          "height": 1000
        },
        "outputId": "1f2efed7-38d9-4fe9-fe48-2b773e3eb32f"
      },
      "source": [
        "import requests\n",
        "import json\n",
        "\n",
        "if __name__==\"__main__\":\n",
        "    page = 16\n",
        "    shixun_id = []\n",
        "    for i in range (0,16):\n",
        "        Count = i+1\n",
        "        pageCount = str(Count)\n",
        "        result = get_shixun_id(pageCount)\n",
        "        print(result)     \n",
        "        for data in result:\n",
        "            print(data['id'])\n",
        "            shixun_id.append(data['id'])\n",
        "    print(shixun_id)"
      ],
      "execution_count": 30,
      "outputs": [
        {
          "output_type": "stream",
          "text": [
            "/usr/local/lib/python3.6/dist-packages/urllib3/connectionpool.py:847: InsecureRequestWarning: Unverified HTTPS request is being made. Adding certificate verification is strongly advised. See: https://urllib3.readthedocs.io/en/latest/advanced-usage.html#ssl-warnings\n",
            "  InsecureRequestWarning)\n"
          ],
          "name": "stderr"
        },
        {
          "output_type": "stream",
          "text": [
            "[{'id': 6934}, {'id': 7003}, {'id': 6853}, {'id': 6976}, {'id': 6701}, {'id': 5978}, {'id': 4830}, {'id': 4876}, {'id': 4235}, {'id': 4181}, {'id': 2193}, {'id': 4173}, {'id': 4130}, {'id': 3911}, {'id': 3868}, {'id': 4041}]\n",
            "6934\n",
            "7003\n",
            "6853\n",
            "6976\n",
            "6701\n",
            "5978\n",
            "4830\n",
            "4876\n",
            "4235\n",
            "4181\n",
            "2193\n",
            "4173\n",
            "4130\n",
            "3911\n",
            "3868\n",
            "4041\n"
          ],
          "name": "stdout"
        },
        {
          "output_type": "stream",
          "text": [
            "/usr/local/lib/python3.6/dist-packages/urllib3/connectionpool.py:847: InsecureRequestWarning: Unverified HTTPS request is being made. Adding certificate verification is strongly advised. See: https://urllib3.readthedocs.io/en/latest/advanced-usage.html#ssl-warnings\n",
            "  InsecureRequestWarning)\n"
          ],
          "name": "stderr"
        },
        {
          "output_type": "stream",
          "text": [
            "[{'id': 4067}, {'id': 3913}, {'id': 3923}, {'id': 4002}, {'id': 3947}, {'id': 3936}, {'id': 3741}, {'id': 3833}, {'id': 3855}, {'id': 3831}, {'id': 3751}, {'id': 3816}, {'id': 3742}, {'id': 3681}, {'id': 3593}, {'id': 3655}]\n",
            "4067\n",
            "3913\n",
            "3923\n",
            "4002\n",
            "3947\n",
            "3936\n",
            "3741\n",
            "3833\n",
            "3855\n",
            "3831\n",
            "3751\n",
            "3816\n",
            "3742\n",
            "3681\n",
            "3593\n",
            "3655\n"
          ],
          "name": "stdout"
        },
        {
          "output_type": "stream",
          "text": [
            "/usr/local/lib/python3.6/dist-packages/urllib3/connectionpool.py:847: InsecureRequestWarning: Unverified HTTPS request is being made. Adding certificate verification is strongly advised. See: https://urllib3.readthedocs.io/en/latest/advanced-usage.html#ssl-warnings\n",
            "  InsecureRequestWarning)\n"
          ],
          "name": "stderr"
        },
        {
          "output_type": "stream",
          "text": [
            "[{'id': 3563}, {'id': 3658}, {'id': 3544}, {'id': 3629}, {'id': 3553}, {'id': 3460}, {'id': 3551}, {'id': 3055}, {'id': 3466}, {'id': 3097}, {'id': 3169}, {'id': 2943}, {'id': 3012}, {'id': 2859}, {'id': 2860}, {'id': 2857}]\n",
            "3563\n",
            "3658\n",
            "3544\n",
            "3629\n",
            "3553\n",
            "3460\n",
            "3551\n",
            "3055\n",
            "3466\n",
            "3097\n",
            "3169\n",
            "2943\n",
            "3012\n",
            "2859\n",
            "2860\n",
            "2857\n"
          ],
          "name": "stdout"
        },
        {
          "output_type": "stream",
          "text": [
            "/usr/local/lib/python3.6/dist-packages/urllib3/connectionpool.py:847: InsecureRequestWarning: Unverified HTTPS request is being made. Adding certificate verification is strongly advised. See: https://urllib3.readthedocs.io/en/latest/advanced-usage.html#ssl-warnings\n",
            "  InsecureRequestWarning)\n"
          ],
          "name": "stderr"
        },
        {
          "output_type": "stream",
          "text": [
            "[{'id': 2940}, {'id': 2941}, {'id': 2858}, {'id': 2756}, {'id': 2763}, {'id': 2862}, {'id': 2712}, {'id': 2861}, {'id': 2901}, {'id': 2899}, {'id': 2900}, {'id': 2903}, {'id': 2902}, {'id': 2905}, {'id': 2907}, {'id': 2906}]\n",
            "2940\n",
            "2941\n",
            "2858\n",
            "2756\n",
            "2763\n",
            "2862\n",
            "2712\n",
            "2861\n",
            "2901\n",
            "2899\n",
            "2900\n",
            "2903\n",
            "2902\n",
            "2905\n",
            "2907\n",
            "2906\n"
          ],
          "name": "stdout"
        },
        {
          "output_type": "stream",
          "text": [
            "/usr/local/lib/python3.6/dist-packages/urllib3/connectionpool.py:847: InsecureRequestWarning: Unverified HTTPS request is being made. Adding certificate verification is strongly advised. See: https://urllib3.readthedocs.io/en/latest/advanced-usage.html#ssl-warnings\n",
            "  InsecureRequestWarning)\n"
          ],
          "name": "stderr"
        },
        {
          "output_type": "stream",
          "text": [
            "[{'id': 2908}, {'id': 2817}, {'id': 2818}, {'id': 2764}, {'id': 2816}, {'id': 2815}, {'id': 2762}, {'id': 2761}, {'id': 2755}, {'id': 2830}, {'id': 2758}, {'id': 2757}, {'id': 2794}, {'id': 2833}, {'id': 2760}, {'id': 2780}]\n",
            "2908\n",
            "2817\n",
            "2818\n",
            "2764\n",
            "2816\n",
            "2815\n",
            "2762\n",
            "2761\n",
            "2755\n",
            "2830\n",
            "2758\n",
            "2757\n",
            "2794\n",
            "2833\n",
            "2760\n",
            "2780\n"
          ],
          "name": "stdout"
        },
        {
          "output_type": "stream",
          "text": [
            "/usr/local/lib/python3.6/dist-packages/urllib3/connectionpool.py:847: InsecureRequestWarning: Unverified HTTPS request is being made. Adding certificate verification is strongly advised. See: https://urllib3.readthedocs.io/en/latest/advanced-usage.html#ssl-warnings\n",
            "  InsecureRequestWarning)\n"
          ],
          "name": "stderr"
        },
        {
          "output_type": "stream",
          "text": [
            "[{'id': 2785}, {'id': 2786}, {'id': 2787}, {'id': 2387}, {'id': 2709}, {'id': 2686}, {'id': 2664}, {'id': 2649}, {'id': 2659}, {'id': 2450}, {'id': 2514}, {'id': 2287}, {'id': 2520}, {'id': 2465}, {'id': 2469}, {'id': 2398}]\n",
            "2785\n",
            "2786\n",
            "2787\n",
            "2387\n",
            "2709\n",
            "2686\n",
            "2664\n",
            "2649\n",
            "2659\n",
            "2450\n",
            "2514\n",
            "2287\n",
            "2520\n",
            "2465\n",
            "2469\n",
            "2398\n"
          ],
          "name": "stdout"
        },
        {
          "output_type": "stream",
          "text": [
            "/usr/local/lib/python3.6/dist-packages/urllib3/connectionpool.py:847: InsecureRequestWarning: Unverified HTTPS request is being made. Adding certificate verification is strongly advised. See: https://urllib3.readthedocs.io/en/latest/advanced-usage.html#ssl-warnings\n",
            "  InsecureRequestWarning)\n"
          ],
          "name": "stderr"
        },
        {
          "output_type": "stream",
          "text": [
            "[{'id': 2233}, {'id': 2214}, {'id': 2114}, {'id': 2335}, {'id': 2110}, {'id': 2157}, {'id': 2230}, {'id': 2270}, {'id': 2261}, {'id': 1937}, {'id': 2158}, {'id': 2221}, {'id': 2189}, {'id': 2167}, {'id': 1925}, {'id': 1920}]\n",
            "2233\n",
            "2214\n",
            "2114\n",
            "2335\n",
            "2110\n",
            "2157\n",
            "2230\n",
            "2270\n",
            "2261\n",
            "1937\n",
            "2158\n",
            "2221\n",
            "2189\n",
            "2167\n",
            "1925\n",
            "1920\n"
          ],
          "name": "stdout"
        },
        {
          "output_type": "stream",
          "text": [
            "/usr/local/lib/python3.6/dist-packages/urllib3/connectionpool.py:847: InsecureRequestWarning: Unverified HTTPS request is being made. Adding certificate verification is strongly advised. See: https://urllib3.readthedocs.io/en/latest/advanced-usage.html#ssl-warnings\n",
            "  InsecureRequestWarning)\n"
          ],
          "name": "stderr"
        },
        {
          "output_type": "stream",
          "text": [
            "[{'id': 1918}, {'id': 1915}, {'id': 1953}, {'id': 1853}, {'id': 1784}, {'id': 1756}, {'id': 1673}, {'id': 1715}, {'id': 1713}, {'id': 1706}, {'id': 1709}, {'id': 1708}, {'id': 1693}, {'id': 1675}, {'id': 1540}, {'id': 1621}]\n",
            "1918\n",
            "1915\n",
            "1953\n",
            "1853\n",
            "1784\n",
            "1756\n",
            "1673\n",
            "1715\n",
            "1713\n",
            "1706\n",
            "1709\n",
            "1708\n",
            "1693\n",
            "1675\n",
            "1540\n",
            "1621\n"
          ],
          "name": "stdout"
        },
        {
          "output_type": "stream",
          "text": [
            "/usr/local/lib/python3.6/dist-packages/urllib3/connectionpool.py:847: InsecureRequestWarning: Unverified HTTPS request is being made. Adding certificate verification is strongly advised. See: https://urllib3.readthedocs.io/en/latest/advanced-usage.html#ssl-warnings\n",
            "  InsecureRequestWarning)\n"
          ],
          "name": "stderr"
        },
        {
          "output_type": "stream",
          "text": [
            "[{'id': 1493}, {'id': 1492}, {'id': 1604}, {'id': 1566}, {'id': 1522}, {'id': 1500}, {'id': 1480}, {'id': 1406}, {'id': 1405}, {'id': 1481}, {'id': 1473}, {'id': 1453}, {'id': 1373}, {'id': 1285}, {'id': 1395}, {'id': 1448}]\n",
            "1493\n",
            "1492\n",
            "1604\n",
            "1566\n",
            "1522\n",
            "1500\n",
            "1480\n",
            "1406\n",
            "1405\n",
            "1481\n",
            "1473\n",
            "1453\n",
            "1373\n",
            "1285\n",
            "1395\n",
            "1448\n"
          ],
          "name": "stdout"
        },
        {
          "output_type": "stream",
          "text": [
            "/usr/local/lib/python3.6/dist-packages/urllib3/connectionpool.py:847: InsecureRequestWarning: Unverified HTTPS request is being made. Adding certificate verification is strongly advised. See: https://urllib3.readthedocs.io/en/latest/advanced-usage.html#ssl-warnings\n",
            "  InsecureRequestWarning)\n"
          ],
          "name": "stderr"
        },
        {
          "output_type": "stream",
          "text": [
            "[{'id': 1454}, {'id': 1423}, {'id': 1426}, {'id': 1407}, {'id': 1255}, {'id': 1210}, {'id': 1197}, {'id': 1377}, {'id': 1381}, {'id': 1386}, {'id': 1315}, {'id': 1203}, {'id': 1301}, {'id': 1310}, {'id': 1276}, {'id': 1277}]\n",
            "1454\n",
            "1423\n",
            "1426\n",
            "1407\n",
            "1255\n",
            "1210\n",
            "1197\n",
            "1377\n",
            "1381\n",
            "1386\n",
            "1315\n",
            "1203\n",
            "1301\n",
            "1310\n",
            "1276\n",
            "1277\n"
          ],
          "name": "stdout"
        },
        {
          "output_type": "stream",
          "text": [
            "/usr/local/lib/python3.6/dist-packages/urllib3/connectionpool.py:847: InsecureRequestWarning: Unverified HTTPS request is being made. Adding certificate verification is strongly advised. See: https://urllib3.readthedocs.io/en/latest/advanced-usage.html#ssl-warnings\n",
            "  InsecureRequestWarning)\n"
          ],
          "name": "stderr"
        },
        {
          "output_type": "stream",
          "text": [
            "[{'id': 1267}, {'id': 1262}, {'id': 1263}, {'id': 1260}, {'id': 1259}, {'id': 1186}, {'id': 1140}, {'id': 1124}, {'id': 1106}, {'id': 1092}, {'id': 1079}, {'id': 1080}, {'id': 1061}, {'id': 1035}, {'id': 1016}, {'id': 1030}]\n",
            "1267\n",
            "1262\n",
            "1263\n",
            "1260\n",
            "1259\n",
            "1186\n",
            "1140\n",
            "1124\n",
            "1106\n",
            "1092\n",
            "1079\n",
            "1080\n",
            "1061\n",
            "1035\n",
            "1016\n",
            "1030\n"
          ],
          "name": "stdout"
        },
        {
          "output_type": "stream",
          "text": [
            "/usr/local/lib/python3.6/dist-packages/urllib3/connectionpool.py:847: InsecureRequestWarning: Unverified HTTPS request is being made. Adding certificate verification is strongly advised. See: https://urllib3.readthedocs.io/en/latest/advanced-usage.html#ssl-warnings\n",
            "  InsecureRequestWarning)\n"
          ],
          "name": "stderr"
        },
        {
          "output_type": "stream",
          "text": [
            "[{'id': 885}, {'id': 969}, {'id': 1022}, {'id': 1025}, {'id': 946}, {'id': 987}, {'id': 1005}, {'id': 1001}, {'id': 929}, {'id': 926}, {'id': 909}, {'id': 922}, {'id': 908}, {'id': 798}, {'id': 848}, {'id': 900}]\n",
            "885\n",
            "969\n",
            "1022\n",
            "1025\n",
            "946\n",
            "987\n",
            "1005\n",
            "1001\n",
            "929\n",
            "926\n",
            "909\n",
            "922\n",
            "908\n",
            "798\n",
            "848\n",
            "900\n"
          ],
          "name": "stdout"
        },
        {
          "output_type": "stream",
          "text": [
            "/usr/local/lib/python3.6/dist-packages/urllib3/connectionpool.py:847: InsecureRequestWarning: Unverified HTTPS request is being made. Adding certificate verification is strongly advised. See: https://urllib3.readthedocs.io/en/latest/advanced-usage.html#ssl-warnings\n",
            "  InsecureRequestWarning)\n"
          ],
          "name": "stderr"
        },
        {
          "output_type": "stream",
          "text": [
            "[{'id': 897}, {'id': 880}, {'id': 876}, {'id': 877}, {'id': 840}, {'id': 883}, {'id': 819}, {'id': 800}, {'id': 803}, {'id': 836}, {'id': 838}, {'id': 829}, {'id': 805}, {'id': 815}, {'id': 794}, {'id': 796}]\n",
            "897\n",
            "880\n",
            "876\n",
            "877\n",
            "840\n",
            "883\n",
            "819\n",
            "800\n",
            "803\n",
            "836\n",
            "838\n",
            "829\n",
            "805\n",
            "815\n",
            "794\n",
            "796\n"
          ],
          "name": "stdout"
        },
        {
          "output_type": "stream",
          "text": [
            "/usr/local/lib/python3.6/dist-packages/urllib3/connectionpool.py:847: InsecureRequestWarning: Unverified HTTPS request is being made. Adding certificate verification is strongly advised. See: https://urllib3.readthedocs.io/en/latest/advanced-usage.html#ssl-warnings\n",
            "  InsecureRequestWarning)\n"
          ],
          "name": "stderr"
        },
        {
          "output_type": "stream",
          "text": [
            "[{'id': 795}, {'id': 763}, {'id': 818}, {'id': 724}, {'id': 723}, {'id': 722}, {'id': 720}, {'id': 719}, {'id': 717}, {'id': 81}, {'id': 82}, {'id': 56}, {'id': 54}, {'id': 57}, {'id': 53}, {'id': 96}]\n",
            "795\n",
            "763\n",
            "818\n",
            "724\n",
            "723\n",
            "722\n",
            "720\n",
            "719\n",
            "717\n",
            "81\n",
            "82\n",
            "56\n",
            "54\n",
            "57\n",
            "53\n",
            "96\n"
          ],
          "name": "stdout"
        },
        {
          "output_type": "stream",
          "text": [
            "/usr/local/lib/python3.6/dist-packages/urllib3/connectionpool.py:847: InsecureRequestWarning: Unverified HTTPS request is being made. Adding certificate verification is strongly advised. See: https://urllib3.readthedocs.io/en/latest/advanced-usage.html#ssl-warnings\n",
            "  InsecureRequestWarning)\n"
          ],
          "name": "stderr"
        },
        {
          "output_type": "stream",
          "text": [
            "[{'id': 95}, {'id': 93}, {'id': 97}, {'id': 92}, {'id': 88}, {'id': 90}, {'id': 89}, {'id': 51}, {'id': 4867}, {'id': 192}, {'id': 4868}, {'id': 206}, {'id': 4866}, {'id': 175}, {'id': 4869}, {'id': 207}]\n",
            "95\n",
            "93\n",
            "97\n",
            "92\n",
            "88\n",
            "90\n",
            "89\n",
            "51\n",
            "4867\n",
            "192\n",
            "4868\n",
            "206\n",
            "4866\n",
            "175\n",
            "4869\n",
            "207\n"
          ],
          "name": "stdout"
        },
        {
          "output_type": "stream",
          "text": [
            "/usr/local/lib/python3.6/dist-packages/urllib3/connectionpool.py:847: InsecureRequestWarning: Unverified HTTPS request is being made. Adding certificate verification is strongly advised. See: https://urllib3.readthedocs.io/en/latest/advanced-usage.html#ssl-warnings\n",
            "  InsecureRequestWarning)\n"
          ],
          "name": "stderr"
        },
        {
          "output_type": "stream",
          "text": [
            "[{'id': 4870}, {'id': 208}, {'id': 4871}, {'id': 209}, {'id': 70}, {'id': 4861}, {'id': 103}, {'id': 4863}, {'id': 99}, {'id': 4286}, {'id': 100}, {'id': 4287}, {'id': 101}, {'id': 4288}, {'id': 102}, {'id': 4289}]\n",
            "4870\n",
            "208\n",
            "4871\n",
            "209\n",
            "70\n",
            "4861\n",
            "103\n",
            "4863\n",
            "99\n",
            "4286\n",
            "100\n",
            "4287\n",
            "101\n",
            "4288\n",
            "102\n",
            "4289\n",
            "[6934, 7003, 6853, 6976, 6701, 5978, 4830, 4876, 4235, 4181, 2193, 4173, 4130, 3911, 3868, 4041, 4067, 3913, 3923, 4002, 3947, 3936, 3741, 3833, 3855, 3831, 3751, 3816, 3742, 3681, 3593, 3655, 3563, 3658, 3544, 3629, 3553, 3460, 3551, 3055, 3466, 3097, 3169, 2943, 3012, 2859, 2860, 2857, 2940, 2941, 2858, 2756, 2763, 2862, 2712, 2861, 2901, 2899, 2900, 2903, 2902, 2905, 2907, 2906, 2908, 2817, 2818, 2764, 2816, 2815, 2762, 2761, 2755, 2830, 2758, 2757, 2794, 2833, 2760, 2780, 2785, 2786, 2787, 2387, 2709, 2686, 2664, 2649, 2659, 2450, 2514, 2287, 2520, 2465, 2469, 2398, 2233, 2214, 2114, 2335, 2110, 2157, 2230, 2270, 2261, 1937, 2158, 2221, 2189, 2167, 1925, 1920, 1918, 1915, 1953, 1853, 1784, 1756, 1673, 1715, 1713, 1706, 1709, 1708, 1693, 1675, 1540, 1621, 1493, 1492, 1604, 1566, 1522, 1500, 1480, 1406, 1405, 1481, 1473, 1453, 1373, 1285, 1395, 1448, 1454, 1423, 1426, 1407, 1255, 1210, 1197, 1377, 1381, 1386, 1315, 1203, 1301, 1310, 1276, 1277, 1267, 1262, 1263, 1260, 1259, 1186, 1140, 1124, 1106, 1092, 1079, 1080, 1061, 1035, 1016, 1030, 885, 969, 1022, 1025, 946, 987, 1005, 1001, 929, 926, 909, 922, 908, 798, 848, 900, 897, 880, 876, 877, 840, 883, 819, 800, 803, 836, 838, 829, 805, 815, 794, 796, 795, 763, 818, 724, 723, 722, 720, 719, 717, 81, 82, 56, 54, 57, 53, 96, 95, 93, 97, 92, 88, 90, 89, 51, 4867, 192, 4868, 206, 4866, 175, 4869, 207, 4870, 208, 4871, 209, 70, 4861, 103, 4863, 99, 4286, 100, 4287, 101, 4288, 102, 4289]\n"
          ],
          "name": "stdout"
        }
      ]
    }
  ]
}