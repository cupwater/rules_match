{
 "cells": [
  {
   "cell_type": "code",
   "execution_count": 1,
   "metadata": {},
   "outputs": [],
   "source": [
    "# encoding: UTF-8\n",
    "import re\n",
    "# encoding: UTF-8\n",
    "import pandas as pd\n",
    "import pickle\n",
    "import pattern_lib\n",
    "import numpy as np\n",
    "\n",
    "pattern_intro1 = re.compile(\"//\")\n",
    "pattern_intro2 = re.compile(\"/\\*\\S*\\*/\")\n",
    "\n",
    "def remove_annotation(_str):\n",
    "    content_array = _str.split(\"\\n\")\n",
    "    tmpstr = ''\n",
    "    for content_str in content_array:\n",
    "        content_str = content_str.strip(\" \")\n",
    "        intro = pattern_intro1.match(content_str)\n",
    "        if intro is not None:\n",
    "            if intro.pos == 0:\n",
    "                continue\n",
    "            else:\n",
    "                content_str = content_str[:intro.pos]\n",
    "        if len(content_str) == 0:\n",
    "            continue\n",
    "        tmpstr = tmpstr+content_str\n",
    "    reslist = pattern_intro2.findall(tmpstr)\n",
    "    if len(reslist) != 0:\n",
    "        for res in reslist:\n",
    "            tmpstr = tmpstr.replace(res,\"\")\n",
    "    return tmpstr\n",
    "\n",
    "def separate_local_global_contents(_str):\n",
    "    res_index = []\n",
    "    _stack = []\n",
    "    for i, letter in enumerate(_str):\n",
    "        if letter == '{':\n",
    "            _stack.append(i)\n",
    "        elif letter == '}':\n",
    "            if len(_stack) == 1:\n",
    "                res_index.extend([_stack[0], i])\n",
    "            _stack.pop()\n",
    "    local_content = ''\n",
    "    global_content = ''\n",
    "    for i in range(int(len(res_index)/2)):\n",
    "        if i == 0:\n",
    "            local_content = local_content + _str[0:i]\n",
    "            global_content = global_content + _str[i:(i+1)]\n",
    "    return local_content, global_content\n",
    "\n",
    "# get all function and their content, \n",
    "# return a list of 4-tuples: [fc_sidx, fd_eidx, fc_sidx, fc_eidx], record the start and end index of declaration and contents\n",
    "def get_all_functions(_str, fun_declar):\n",
    "    fun_contents_list = []\n",
    "    fun_list = re.finditer(fun_declar, _str)\n",
    "    fun_idxs_list = []\n",
    "    for _fun in fun_list:\n",
    "        fd_sidx = _fun.start() # function declaration start index\n",
    "        fc_sidx = -1 # function content start index\n",
    "        fc_eidx = -1 # function content start index\n",
    "        _stack = []\n",
    "        for i, letter in enumerate(_str[fd_sidx:]):\n",
    "            if letter == '{':\n",
    "                fd_eidx = i + fd_sidx - 1\n",
    "                fc_sidx = i + fd_sidx\n",
    "                _stack.append(i)\n",
    "            elif letter == '}':\n",
    "                if len(_stack) == 1:\n",
    "                    fc_eidx = i + fd_sidx\n",
    "                    break\n",
    "        if fc_eidx == -1:\n",
    "            fc_eidx = len(_str)\n",
    "        fun_idxs_list.append([fd_sidx, fd_sidx, fc_sidx, fc_eidx])\n",
    "    return fun_idxs_list\n",
    "\n",
    "def check_array_params(fun_declar_str, fun_content_str, array_pattern):\n",
    "    array_list = re.finditer(array_pattern, fun_declar)\n",
    "    for _array in array_list:\n",
    "        # first, get the array name\n",
    "        array_name = _array.split(' ')[1]\n",
    "        if array_name in fun_content_str:\n",
    "            return 1\n",
    "        else: \n",
    "            continue\n",
    "    return 0"
   ]
  },
  {
   "cell_type": "code",
   "execution_count": 2,
   "metadata": {},
   "outputs": [],
   "source": [
    "\n",
    "def check_pattern(_str, pattern, rule_name):\n",
    "    res = pattern.search(_str)\n",
    "    if res:\n",
    "        return 1\n",
    "    else : \n",
    "        return 0\n",
    "\n",
    "def rule_match(_str, pattern_dict):\n",
    "    matched_result_dict = {}\n",
    "    for key, value in pattern_dict.items():\n",
    "        matched_result_dict[key] = check_pattern(_str, value, key)\n",
    "    return matched_result_dict\n"
   ]
  },
  {
   "cell_type": "code",
   "execution_count": 3,
   "metadata": {},
   "outputs": [],
   "source": [
    "df_answer = pd.read_csv(\"data/challenge_answer.csv\")\n",
    "result_rule = []\n",
    "pattern_dict = pattern_lib.get_all_patterns()\n",
    "pattern_dict_str = pattern_lib.pattern_dict\n",
    "content_str = ''\n",
    "for i, row in df_answer.iterrows():\n",
    "    if isinstance(row[\"contents\"], str):\n",
    "        content_str = remove_annotation(row[\"contents\"])\n",
    "        matched_result_dict = rule_match(content_str, pattern_dict)\n",
    "        result_rule.append( matched_result_dict.values() )\n",
    "    else :\n",
    "        continue\n",
    "    if i == 1:\n",
    "        break"
   ]
  },
  {
   "cell_type": "code",
   "execution_count": 4,
   "metadata": {},
   "outputs": [
    {
     "name": "stdout",
     "output_type": "stream",
     "text": [
      "本关任务对应参考代码实现如下：#include <math.h>double SquareRoot(float n){return n > 0 ? sqrt(n) : -1;}\n"
     ]
    }
   ],
   "source": [
    "print(content_str)\n",
    "funs_list = re.finditer(pattern_dict_str['function_declaration'], content_str)"
   ]
  },
  {
   "cell_type": "code",
   "execution_count": 5,
   "metadata": {},
   "outputs": [
    {
     "name": "stdout",
     "output_type": "stream",
     "text": [
      "(int|float|bool|char|double|void|wchar_t)\\s*[a-zA-Z_][a-zA-Z0-9_]*\\((int|float|bool|char|double|void|wchar_t)\\s*[a-zA-Z_][a-zA-Z0-9_]*(,\\s*(int|float|bool|char|double|void|wchar_t)\\s*[a-zA-Z_][a-zA-Z0-9_]*)*\\)\n",
      "本关任务对应参考代码实现如下：#include <math.h>double SquareRoot(float n){return n > 0 ? sqrt(n) : -1;}\n"
     ]
    }
   ],
   "source": [
    "print(pattern_dict_str['function_declaration'])\n",
    "print(content_str)"
   ]
  },
  {
   "cell_type": "code",
   "execution_count": 19,
   "metadata": {},
   "outputs": [],
   "source": [
    "for m in funs_list:\n",
    "    print(m.group)"
   ]
  },
  {
   "cell_type": "code",
   "execution_count": 29,
   "metadata": {},
   "outputs": [
    {
     "name": "stdout",
     "output_type": "stream",
     "text": [
      "int aaa(int bb, int cc)\n"
     ]
    }
   ],
   "source": [
    "funs_list = re.finditer(r\"(int|float|bool|char|double|void|wchar_t)\\s*[a-zA-Z_][a-zA-Z0-9_]*\\((int|float|bool|char|double|void|wchar_t)\\s*[a-zA-Z_][a-zA-Z0-9_]*(,\\s*(int|float|bool|char|double|void|wchar_t)\\s*[a-zA-Z_][a-zA-Z0-9_]*)\\)\", 'int aaa(int bb, int cc)')\n",
    "for m in funs_list:\n",
    "    print(m.group(0))"
   ]
  },
  {
   "cell_type": "code",
   "execution_count": null,
   "metadata": {},
   "outputs": [],
   "source": []
  }
 ],
 "metadata": {
  "kernelspec": {
   "display_name": "Python 2",
   "language": "python",
   "name": "python2"
  },
  "language_info": {
   "codemirror_mode": {
    "name": "ipython",
    "version": 2
   },
   "file_extension": ".py",
   "mimetype": "text/x-python",
   "name": "python",
   "nbconvert_exporter": "python",
   "pygments_lexer": "ipython2",
   "version": "2.7.16"
  }
 },
 "nbformat": 4,
 "nbformat_minor": 2
}
